{
 "cells": [
  {
   "cell_type": "code",
   "execution_count": 1,
   "id": "4f42f18f",
   "metadata": {},
   "outputs": [],
   "source": [
    "import pandas as pd\n",
    "import numpy as np"
   ]
  },
  {
   "cell_type": "code",
   "execution_count": 2,
   "id": "5fec1b4d",
   "metadata": {},
   "outputs": [],
   "source": [
    "df1=pd.read_csv(r\"C:\\Users\\Krishna\\Downloads\\us_customer_data 1.csv\")\n",
    "df2=pd.read_csv(r\"C:\\Users\\Krishna\\Downloads\\transaction_data.csv\")"
   ]
  },
  {
   "cell_type": "code",
   "execution_count": 3,
   "id": "b117046c",
   "metadata": {},
   "outputs": [],
   "source": [
    "df=pd.merge(df1,df2,how='inner',on='customer_id')"
   ]
  },
  {
   "cell_type": "code",
   "execution_count": null,
   "id": "63a42840",
   "metadata": {},
   "outputs": [],
   "source": [
    "df"
   ]
  },
  {
   "cell_type": "code",
   "execution_count": 12,
   "id": "36cf4c18",
   "metadata": {},
   "outputs": [
    {
     "name": "stdout",
     "output_type": "stream",
     "text": [
      "<class 'pandas.core.frame.DataFrame'>\n",
      "RangeIndex: 1000 entries, 0 to 999\n",
      "Data columns (total 13 columns):\n",
      " #   Column             Non-Null Count  Dtype  \n",
      "---  ------             --------------  -----  \n",
      " 0   customer_id        1000 non-null   int64  \n",
      " 1   name               1000 non-null   object \n",
      " 2   email              1000 non-null   object \n",
      " 3   phone              1000 non-null   object \n",
      " 4   address            1000 non-null   object \n",
      " 5   registration_date  1000 non-null   object \n",
      " 6   loyalty_status     1000 non-null   object \n",
      " 7   transaction_id     1000 non-null   int64  \n",
      " 8   amount             1000 non-null   float64\n",
      " 9   transaction_date   1000 non-null   object \n",
      " 10  product_category   1000 non-null   object \n",
      " 11  payment_method     1000 non-null   object \n",
      " 12  store_location     1000 non-null   object \n",
      "dtypes: float64(1), int64(2), object(10)\n",
      "memory usage: 101.7+ KB\n"
     ]
    }
   ],
   "source": [
    "df.info()"
   ]
  },
  {
   "cell_type": "code",
   "execution_count": 13,
   "id": "29b119c9",
   "metadata": {},
   "outputs": [],
   "source": [
    "df=df.drop(columns=['Unnamed: 0_x','Unnamed: 0_y'],errors='ignore')"
   ]
  },
  {
   "cell_type": "code",
   "execution_count": 43,
   "id": "44eb06e5",
   "metadata": {},
   "outputs": [],
   "source": [
    "tg=df.groupby(['customer_id','name'])['amount'].sum()"
   ]
  },
  {
   "cell_type": "code",
   "execution_count": 44,
   "id": "d4624ab9",
   "metadata": {},
   "outputs": [],
   "source": [
    "tg=tg[tg>1000]\n"
   ]
  },
  {
   "cell_type": "code",
   "execution_count": 45,
   "id": "d8a04cec",
   "metadata": {},
   "outputs": [],
   "source": [
    "tg=tg.sort_values(ascending=False)"
   ]
  },
  {
   "cell_type": "code",
   "execution_count": 49,
   "id": "e81155ca",
   "metadata": {},
   "outputs": [
    {
     "data": {
      "text/plain": [
       "customer_id  name             \n",
       "488          Brandy Sawyer        15704.70\n",
       "301          Michael Schroeder    13797.22\n",
       "866          Michael Ross         13699.75\n",
       "760          Sharon Cole          13656.30\n",
       "697          Diana Ray            13140.66\n",
       "                                    ...   \n",
       "390          Jennifer Church       1060.95\n",
       "558          Mike Smith            1057.89\n",
       "325          Jason Mendoza         1024.59\n",
       "307          Courtney Reed         1008.48\n",
       "617          Alexander Clarke      1006.88\n",
       "Name: amount, Length: 578, dtype: float64"
      ]
     },
     "execution_count": 49,
     "metadata": {},
     "output_type": "execute_result"
    }
   ],
   "source": [
    "tg"
   ]
  },
  {
   "cell_type": "code",
   "execution_count": 47,
   "id": "b5cc4a6e",
   "metadata": {},
   "outputs": [],
   "source": [
    "tg.to_csv(r'C:\\Users\\Krishna\\Downloads\\VIP_customers.csv')"
   ]
  }
 ],
 "metadata": {
  "kernelspec": {
   "display_name": "Python 3",
   "language": "python",
   "name": "python3"
  },
  "language_info": {
   "codemirror_mode": {
    "name": "ipython",
    "version": 3
   },
   "file_extension": ".py",
   "mimetype": "text/x-python",
   "name": "python",
   "nbconvert_exporter": "python",
   "pygments_lexer": "ipython3",
   "version": "3.10.11"
  }
 },
 "nbformat": 4,
 "nbformat_minor": 5
}
